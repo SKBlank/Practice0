{
  "cells": [
    {
      "cell_type": "code",
      "execution_count": 1,
      "metadata": {
        "colab": {
          "base_uri": "https://localhost:8080/"
        },
        "id": "8S6cN1nUXmWI",
        "outputId": "10d1468b-aa54-43d4-c86f-87e77704f340"
      },
      "outputs": [
        {
          "output_type": "stream",
          "name": "stdout",
          "text": [
            "IPython version:      %6.6s 7.9.0\n"
          ]
        }
      ],
      "source": [
        "import IPython\n",
        "import json\n",
        "# Numpy is a library for working with Arrays\n",
        "import numpy as np\n",
        "# SciPy implements many different numerical algorithms\n",
        "import scipy as sp\n",
        "# Pandas is good with data tables\n",
        "import pandas as pd\n",
        "# Module for plotting\n",
        "import matplotlib\n",
        "#BeautifulSoup parses HTML documents (once you get them via requests)\n",
        "import bs4\n",
        "# Nltk helps with some natural language tasks, like stemming\n",
        "import nltk\n",
        "# Bson is a binary format of json to be stored in databases\n",
        "import bson\n",
        "# Mongo is one of common nosql databases \n",
        "# it stores/searches json documents natively\n",
        "import pymongo\n",
        "print (\"IPython version:      %6.6s\", IPython.__version__)"
      ]
    },
    {
      "cell_type": "code",
      "execution_count": 2,
      "metadata": {
        "colab": {
          "base_uri": "https://localhost:8080/"
        },
        "id": "eYX2BWp4XmWJ",
        "outputId": "c9b4a72c-e2c8-4d54-875a-6387ccfad12c"
      },
      "outputs": [
        {
          "output_type": "stream",
          "name": "stdout",
          "text": [
            "Make a 2 row x 3 column array of random numbers\n",
            "[[0.45141464 0.4242277  0.64571898]\n",
            " [0.60234656 0.62445531 0.23055866]]\n",
            "Add 5 to every element\n",
            "[[5.45141464 5.4242277  5.64571898]\n",
            " [5.60234656 5.62445531 5.23055866]]\n",
            "Get the first row\n",
            "[5.45141464 5.4242277  5.64571898]\n"
          ]
        }
      ],
      "source": [
        "#Here is what numpy can do\\n\",\n",
        "print (\"Make a 2 row x 3 column array of random numbers\")\n",
        "x = np.random.random((2, 3))\n",
        "print (x)\n",
        "\n",
        "#array operation (as in R)\n",
        "print (\"Add 5 to every element\")\n",
        "x = x + 5\n",
        "print (x)\n",
        "\n",
        "# get a slice (first row) (as in R)\n",
        "print (\"Get the first row\")\n",
        "print (x[0, :])"
      ]
    },
    {
      "cell_type": "code",
      "execution_count": 3,
      "metadata": {
        "colab": {
          "base_uri": "https://localhost:8080/"
        },
        "id": "EgwAHwr5XmWJ",
        "outputId": "a2a8c748-a477-44bf-b5df-11c466c4521c"
      },
      "outputs": [
        {
          "output_type": "execute_result",
          "data": {
            "text/plain": [
              "<function ndarray.any>"
            ]
          },
          "metadata": {},
          "execution_count": 3
        }
      ],
      "source": [
        "# IPython is quite modern: just press <TAB> at the end of the unfinished statement to see the documentation\n",
        "#       on possible completions.\n",
        "#       In the code cell below, type x.<TAB>, to find built-in operations for x\n",
        "x.any"
      ]
    },
    {
      "cell_type": "code",
      "execution_count": 4,
      "metadata": {
        "colab": {
          "base_uri": "https://localhost:8080/",
          "height": 265
        },
        "id": "3MT2ty5fXmWJ",
        "outputId": "b495bd24-555c-4582-f184-740001385b9d"
      },
      "outputs": [
        {
          "output_type": "display_data",
          "data": {
            "text/plain": [
              "<Figure size 432x288 with 1 Axes>"
            ],
            "image/png": "[encoded data removed]"
          },
          "metadata": {
            "needs_background": "light"
          }
        }
      ],
      "source": [
        "%matplotlib inline \n",
        "import matplotlib.pyplot as plt\n",
        "heads = np.random.binomial(500, .5, size=500)\n",
        "histogram = plt.hist(heads, bins=10)"
      ]
    },
    {
      "cell_type": "markdown",
      "metadata": {
        "collapsed": true,
        "id": "x3mudxDPXmWK"
      },
      "source": [
        "# Task 1\n",
        "## write a program to produce Fibonacci numbers up to 1000000"
      ]
    },
    {
      "cell_type": "code",
      "execution_count": 5,
      "metadata": {
        "collapsed": true,
        "colab": {
          "base_uri": "https://localhost:8080/"
        },
        "id": "PqhnDOTKXmWK",
        "outputId": "0160bfe7-14a4-4d03-fbba-58452c445008"
      },
      "outputs": [
        {
          "output_type": "stream",
          "name": "stdout",
          "text": [
            "0\n",
            "1\n",
            "1\n",
            "2\n",
            "3\n",
            "5\n",
            "8\n",
            "13\n",
            "21\n",
            "34\n",
            "55\n",
            "89\n",
            "144\n",
            "233\n",
            "377\n",
            "610\n",
            "987\n",
            "1597\n",
            "2584\n",
            "4181\n",
            "6765\n",
            "10946\n",
            "17711\n",
            "28657\n",
            "46368\n",
            "75025\n",
            "121393\n",
            "196418\n",
            "317811\n",
            "514229\n",
            "832040\n",
            "1346269\n"
          ]
        }
      ],
      "source": [
        "n1 = 0\n",
        "n2 = 1\n",
        "print(n1)\n",
        "print(n2)\n",
        "while n2 < 1000000:\n",
        "    nth = n1+n2\n",
        "    print(nth)\n",
        "    n1 = n2\n",
        "    n2 = nth"
      ]
    },
    {
      "cell_type": "markdown",
      "metadata": {
        "id": "lEUAKuDcXmWK"
      },
      "source": [
        "# Task 2\n",
        "## write a program to simulate 1000 tosses of a fair coin (use np.random.binomial)\n",
        "## Calculate the mean and standard deviation of that sample"
      ]
    },
    {
      "cell_type": "code",
      "execution_count": 6,
      "metadata": {
        "collapsed": true,
        "colab": {
          "base_uri": "https://localhost:8080/"
        },
        "id": "2oLLghJgXmWL",
        "outputId": "0be92456-891c-4b5e-cb38-3d18864ec228"
      },
      "outputs": [
        {
          "output_type": "stream",
          "name": "stdout",
          "text": [
            "Mean:  0.473\n",
            "Standard Deviation:  0.499270467782744\n"
          ]
        }
      ],
      "source": [
        "samples = np.random.binomial(1, 0.5, 1000)\n",
        "print(\"Mean: \", samples.mean())\n",
        "print(\"Standard Deviation: \", samples.std())"
      ]
    },
    {
      "cell_type": "markdown",
      "metadata": {
        "id": "BF7QYN4SXmWL"
      },
      "source": [
        "# Task 3\n",
        "## Produce a scatterplot of y = 0.5*x+e where x has gaussian (0, 5) and e has gaussian (0, 1) distributions \n",
        "### use numpy.random.normal to generate gaussian distribution"
      ]
    },
    {
      "cell_type": "code",
      "execution_count": 7,
      "metadata": {
        "collapsed": true,
        "colab": {
          "base_uri": "https://localhost:8080/",
          "height": 266
        },
        "id": "hDN1uWMWXmWL",
        "outputId": "7f9b5886-b663-4305-b55a-01810497d376"
      },
      "outputs": [
        {
          "output_type": "display_data",
          "data": {
            "text/plain": [
              "<Figure size 432x288 with 1 Axes>"
            ],
            "image/png": "[encoded data removed]"
          },
          "metadata": {
            "needs_background": "light"
          }
        }
      ],
      "source": [
        "x = np.random.normal(0, 5, 1000)\n",
        "e = np.random.normal(0, 1, 1000)\n",
        "\n",
        "y = (.5 * x) + e\n",
        "\n",
        "plt.scatter(x, y)\n",
        "plt.show()"
      ]
    },
    {
      "cell_type": "code",
      "source": [],
      "metadata": {
        "id": "EI7mDX2LXyyR"
      },
      "execution_count": 7,
      "outputs": []
    }
  ],
  "metadata": {
    "kernelspec": {
      "display_name": "Python 3",
      "language": "python",
      "name": "python3"
    },
    "language_info": {
      "codemirror_mode": {
        "name": "ipython",
        "version": 3
      },
      "file_extension": ".py",
      "mimetype": "text/x-python",
      "name": "python",
      "nbconvert_exporter": "python",
      "pygments_lexer": "ipython3",
      "version": "3.5.2"
    },
    "colab": {
      "provenance": []
    }
  },
  "nbformat": 4,
  "nbformat_minor": 0
}