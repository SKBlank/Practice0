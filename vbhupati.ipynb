{
  "cells": [
    {
      "cell_type": "code",
      "execution_count": 4,
      "metadata": {
        "colab": {
          "base_uri": "https://localhost:8080/"
        },
        "id": "a1MqoAq-qMj8",
        "outputId": "aaa2f003-c57c-444a-d17b-e7e82a578689"
      },
      "outputs": [
        {
          "output_type": "stream",
          "name": "stdout",
          "text": [
            "IPython version:      %6.6s 7.9.0\n"
          ]
        }
      ],
      "source": [
        "import IPython\n",
        "import json\n",
        "# Numpy is a library for working with Arrays\n",
        "import numpy as np\n",
        "# SciPy implements many different numerical algorithms\n",
        "import scipy as sp\n",
        "# Pandas is good with data tables\n",
        "import pandas as pd\n",
        "# Module for plotting\n",
        "import matplotlib\n",
        "#BeautifulSoup parses HTML documents (once you get them via requests)\n",
        "import bs4\n",
        "# Nltk helps with some natural language tasks, like stemming\n",
        "import nltk\n",
        "# Bson is a binary format of json to be stored in databases\n",
        "import bson\n",
        "# Mongo is one of common nosql databases \n",
        "# it stores/searches json documents natively\n",
        "import pymongo\n",
        "print (\"IPython version:      %6.6s\", IPython.__version__)"
      ]
    },
    {
      "cell_type": "code",
      "execution_count": 5,
      "metadata": {
        "colab": {
          "base_uri": "https://localhost:8080/"
        },
        "id": "pvKKCokFqMkI",
        "outputId": "cee59bdb-4f9d-4e70-d340-7bf5166b0545"
      },
      "outputs": [
        {
          "output_type": "stream",
          "name": "stdout",
          "text": [
            "Make a 2 row x 3 column array of random numbers\n",
            "[[0.2332298  0.28393795 0.11584431]\n",
            " [0.66845718 0.14438696 0.68860014]]\n",
            "Add 5 to every element\n",
            "[[5.2332298  5.28393795 5.11584431]\n",
            " [5.66845718 5.14438696 5.68860014]]\n",
            "Get the first row\n",
            "[5.2332298  5.28393795 5.11584431]\n"
          ]
        }
      ],
      "source": [
        "#Here is what numpy can do\\n\",\n",
        "print (\"Make a 2 row x 3 column array of random numbers\")\n",
        "x = np.random.random((2, 3))\n",
        "print (x)\n",
        "\n",
        "#array operation (as in R)\n",
        "print (\"Add 5 to every element\")\n",
        "x = x + 5\n",
        "print (x)\n",
        "\n",
        "# get a slice (first row) (as in R)\n",
        "print (\"Get the first row\")\n",
        "print (x[0, :])"
      ]
    },
    {
      "cell_type": "code",
      "execution_count": 6,
      "metadata": {
        "colab": {
          "base_uri": "https://localhost:8080/"
        },
        "id": "HjrNcbdRqMkK",
        "outputId": "e7e6d24f-fafc-4887-956e-0a29c2b99e09"
      },
      "outputs": [
        {
          "output_type": "execute_result",
          "data": {
            "text/plain": [
              "<function ndarray.any>"
            ]
          },
          "metadata": {},
          "execution_count": 6
        }
      ],
      "source": [
        "# IPython is quite modern: just press <TAB> at the end of the unfinished statement to see the documentation\n",
        "#       on possible completions.\n",
        "#       In the code cell below, type x.<TAB>, to find built-in operations for x\n",
        "x.any"
      ]
    },
    {
      "cell_type": "code",
      "execution_count": 7,
      "metadata": {
        "colab": {
          "base_uri": "https://localhost:8080/",
          "height": 265
        },
        "id": "L7CbKMLmqMkM",
        "outputId": "3ecbe163-6ce0-410c-d2de-71056f79631c"
      },
      "outputs": [
        {
          "output_type": "display_data",
          "data": {
            "text/plain": [
              "<Figure size 432x288 with 1 Axes>"
            ],
            "image/png": "[encoded data removed]"
          },
          "metadata": {
            "needs_background": "light"
          }
        }
      ],
      "source": [
        "%matplotlib inline \n",
        "import matplotlib.pyplot as plt\n",
        "heads = np.random.binomial(500, .5, size=500)\n",
        "histogram = plt.hist(heads, bins=10)"
      ]
    },
    {
      "cell_type": "markdown",
      "metadata": {
        "collapsed": true,
        "id": "WSUF2aA5qMkN"
      },
      "source": [
        "# Task 1\n",
        "## write a program to produce Fibonacci numbers up to 1000000"
      ]
    },
    {
      "cell_type": "code",
      "execution_count": 8,
      "metadata": {
        "collapsed": true,
        "colab": {
          "base_uri": "https://localhost:8080/"
        },
        "id": "bNFFzO95qMkP",
        "outputId": "d8d08734-96e5-4936-abd6-40d61b1e931f"
      },
      "outputs": [
        {
          "output_type": "stream",
          "name": "stdout",
          "text": [
            "[0, 1, 1, 2, 3, 5, 8, 13, 21, 34, 55, 89, 144, 233, 377, 610, 987, 1597, 2584, 4181, 6765, 10946, 17711, 28657, 46368, 75025, 121393, 196418, 317811, 514229, 832040, 1346269]\n"
          ]
        }
      ],
      "source": [
        "fibnums = [0, 1, 1]\n",
        "\n",
        "while fibnums[-1] < 1000000:\n",
        "  fibnums.append(fibnums[-1] + fibnums[-2])\n",
        "\n",
        "print(fibnums)"
      ]
    },
    {
      "cell_type": "markdown",
      "metadata": {
        "id": "7Ib3aXO_qMkQ"
      },
      "source": [
        "# Task 2\n",
        "## write a program to simulate 1000 tosses of a fair coin (use np.random.binomial)\n",
        "## Calculate the mean and standard deviation of that sample"
      ]
    },
    {
      "cell_type": "code",
      "execution_count": 14,
      "metadata": {
        "collapsed": true,
        "colab": {
          "base_uri": "https://localhost:8080/"
        },
        "id": "78x6qtxvqMkR",
        "outputId": "13d41cbd-ec10-4510-c60b-07bc5b9d2cfc"
      },
      "outputs": [
        {
          "output_type": "stream",
          "name": "stdout",
          "text": [
            "Standard Deviation 0.4998789853554558\n",
            "Average 0.511\n"
          ]
        }
      ],
      "source": [
        "sim = np.random.binomial(1, 0.5, 1000)\n",
        "\n",
        "print(\"Standard Deviation\", np.std(sim))\n",
        "print(\"Average\", np.average(sim))"
      ]
    },
    {
      "cell_type": "markdown",
      "metadata": {
        "id": "pL6BR0fiqMkT"
      },
      "source": [
        "# Task 3\n",
        "## Produce a scatterplot of y = 0.5*x+e where x has gaussian (0, 5) and e has gaussian (0, 1) distributions \n",
        "### use numpy.random.normal to generate gaussian distribution"
      ]
    },
    {
      "cell_type": "code",
      "execution_count": 32,
      "metadata": {
        "collapsed": true,
        "colab": {
          "base_uri": "https://localhost:8080/",
          "height": 300
        },
        "id": "WjIv5YkfqMkU",
        "outputId": "75dd18d1-bc53-493f-9757-05aa1f9be21b"
      },
      "outputs": [
        {
          "output_type": "display_data",
          "data": {
            "text/plain": [
              "<Figure size 432x288 with 1 Axes>"
            ],
            "image/png": "[encoded data removed]"
          },
          "metadata": {
            "needs_background": "light"
          }
        }
      ],
      "source": [
        "x = np.random.normal(loc=0.0, scale=5.0, size=1000)\n",
        "e = np.random.normal(loc=0.0, scale=1.0, size=1000)\n",
        "y = []\n",
        "for xa, ea in zip(x, e):\n",
        "    val = 0.5*xa + ea\n",
        "    y.append(val)\n",
        "\n",
        "fig, ax = plt.subplots()\n",
        "ax.scatter(x, y, s=0.2)\n",
        "\n",
        "ax.set_xlabel(r'gaussian (0, 5)', fontsize=15)\n",
        "ax.set_ylabel(r'0.5*x+e', fontsize=15)\n",
        "ax.set_title('y = 0.5*x+e where x has gaussian (0, 5) and e has gaussian (0, 1)')\n",
        "\n",
        "ax.grid(True)"
      ]
    }
  ],
  "metadata": {
    "kernelspec": {
      "display_name": "Python 3",
      "language": "python",
      "name": "python3"
    },
    "language_info": {
      "codemirror_mode": {
        "name": "ipython",
        "version": 3
      },
      "file_extension": ".py",
      "mimetype": "text/x-python",
      "name": "python",
      "nbconvert_exporter": "python",
      "pygments_lexer": "ipython3",
      "version": "3.5.2"
    },
    "colab": {
      "provenance": []
    }
  },
  "nbformat": 4,
  "nbformat_minor": 0
}